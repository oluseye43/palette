{
  "cells": [
    {
      "cell_type": "markdown",
      "metadata": {
        "id": "QogCSC9QCfPF"
      },
      "source": [
        "**Please follow the instructions. Do not add new cell! Write your code in designated areas.**"
      ]
    },
    {
      "cell_type": "code",
      "source": [],
      "metadata": {
        "id": "vvAMzsjMGSHe"
      },
      "execution_count": null,
      "outputs": []
    },
    {
      "cell_type": "code",
      "execution_count": 13,
      "metadata": {
        "colab": {
          "base_uri": "https://localhost:8080/"
        },
        "id": "CrTMpBCMCfPJ",
        "outputId": "e0d9167a-ef26-41b9-e3c2-fcbaf70d4c5e"
      },
      "outputs": [
        {
          "output_type": "stream",
          "name": "stdout",
          "text": [
            "Assignment 1: Solutions by Oluseye\n",
            "Local Time: 2024-02-09 09:01:37\n",
            "Computer ID: 95f031121370\n"
          ]
        }
      ],
      "source": [
        "import datetime\n",
        "import socket\n",
        "\n",
        "# Get local time\n",
        "local_time = datetime.datetime.now().strftime(\"%Y-%m-%d %H:%M:%S\")\n",
        "\n",
        "# Get computer ID or hostname\n",
        "computer_id = socket.gethostname()\n",
        "\n",
        "# Print output with local time and computer ID\n",
        "print('Assignment 1: Solutions by Oluseye') # Please change your name here\n",
        "print('Local Time:', local_time)\n",
        "print('Computer ID:', computer_id)"
      ]
    },
    {
      "cell_type": "markdown",
      "metadata": {
        "id": "MyYaDTe1CfPM"
      },
      "source": [
        "**Note that you have to run this code in your local engine to pass the assignments**"
      ]
    },
    {
      "cell_type": "markdown",
      "metadata": {
        "id": "8LBLA-MqCfPM"
      },
      "source": [
        "# Assignment 1"
      ]
    },
    {
      "cell_type": "markdown",
      "metadata": {
        "id": "qdKZpvL5CfPM"
      },
      "source": [
        "## Exercise 1: String Manipulation"
      ]
    },
    {
      "cell_type": "markdown",
      "metadata": {
        "id": "eKI4_hO5CfPN"
      },
      "source": [
        "Develop a function that accepts a string parameter indicating a crop name and gives back the crop name in capital letters. Hints: str, upper(), def"
      ]
    },
    {
      "cell_type": "code",
      "execution_count": null,
      "metadata": {
        "colab": {
          "base_uri": "https://localhost:8080/"
        },
        "id": "fEviHCQXCfPN",
        "outputId": "9b18cfeb-ae8c-4c7d-c747-aafc1e3fed4d"
      },
      "outputs": [
        {
          "output_type": "stream",
          "name": "stdout",
          "text": [
            "Original Crop Name: wheat\n",
            "Capitalized Crop Name: WHEAT\n"
          ]
        }
      ],
      "source": [
        "## Your code here down\n",
        "def capitalize_crop_name(crop_name):\n",
        "    return crop_name.upper()\n",
        "\n",
        "crop_name = \"wheat\"\n",
        "capitalized_crop = capitalize_crop_name(crop_name)\n",
        "print(f\"Original Crop Name: {crop_name}\")\n",
        "print(f\"Capitalized Crop Name: {capitalized_crop}\")\n",
        "\n",
        "## Your code here up"
      ]
    },
    {
      "cell_type": "markdown",
      "metadata": {
        "id": "qKFNe1OWCfPN"
      },
      "source": [
        "## Exercise 2: Crop Count"
      ]
    },
    {
      "cell_type": "markdown",
      "metadata": {
        "id": "FPeR37-aCfPN"
      },
      "source": [
        "Create a function that receives a list of crop names (lentil, barley, canola, spring wheat, durum wheat, oats, alfalfa) and outputs the total number of crops. Hints: list, length, def."
      ]
    },
    {
      "cell_type": "code",
      "execution_count": null,
      "metadata": {
        "colab": {
          "base_uri": "https://localhost:8080/"
        },
        "id": "BQlkjrcDCfPO",
        "outputId": "88b49f96-b0da-4555-c3f5-bcb7679d7424"
      },
      "outputs": [
        {
          "output_type": "stream",
          "name": "stdout",
          "text": [
            "Total number of crops: 7\n"
          ]
        }
      ],
      "source": [
        "## Your code here down\n",
        "def count_crops(crop_list):\n",
        "    return len(crop_list)\n",
        "\n",
        "crops = [\"lentil\", \"barley\", \"canola\", \"spring wheat\", \"durum wheat\", \"oats\", \"alfalfa\"]\n",
        "total_crops = count_crops(crops)\n",
        "print(f\"Total number of crops: {total_crops}\")\n",
        "\n",
        "## Your code here up"
      ]
    },
    {
      "cell_type": "markdown",
      "metadata": {
        "id": "bI_wIPOcCfPO"
      },
      "source": [
        "## Exercise 3: Temperature Conversion"
      ]
    },
    {
      "cell_type": "markdown",
      "metadata": {
        "id": "mwx9uTMPCfPO"
      },
      "source": [
        "Create a function that takes a temperature in Celsius and converts it to Fahrenheit. Return the converted temperature. Keys:def, find converter."
      ]
    },
    {
      "cell_type": "code",
      "execution_count": null,
      "metadata": {
        "colab": {
          "base_uri": "https://localhost:8080/"
        },
        "id": "DV2gfr8ICfPO",
        "outputId": "518d05ae-1b30-4694-8d16-85f6b3a587ce"
      },
      "outputs": [
        {
          "output_type": "stream",
          "name": "stdout",
          "text": [
            "25.0 degrees Celsius is equal to 77.0 degrees Fahrenheit.\n"
          ]
        }
      ],
      "source": [
        "## Your code here down\n",
        "def celsius_to_fahrenheit(celsius_temperature):\n",
        "    fahrenheit_temperature = (celsius_temperature * 9/5) + 32\n",
        "    return fahrenheit_temperature\n",
        "\n",
        "celsius_temperature = 25.0\n",
        "converted_temperature = celsius_to_fahrenheit(celsius_temperature)\n",
        "print(f\"{celsius_temperature} degrees Celsius is equal to {converted_temperature} degrees Fahrenheit.\")\n",
        "\n",
        "## Your code here up"
      ]
    },
    {
      "cell_type": "markdown",
      "metadata": {
        "id": "AGdCGGACCfPP"
      },
      "source": [
        "## Exercise 4: Crop Harvest"
      ]
    },
    {
      "cell_type": "markdown",
      "metadata": {
        "id": "tVl8ZKbNCfPP"
      },
      "source": [
        "Create a function that takes the yield of canola crop (in bushels) and returns a string indicating whether it's a high, moderate, or low yield. Keys: strings, if-else, print()"
      ]
    },
    {
      "cell_type": "code",
      "execution_count": null,
      "metadata": {
        "colab": {
          "base_uri": "https://localhost:8080/"
        },
        "id": "49uSuL7tCfPP",
        "outputId": "d3ed5358-1f8d-4953-fc02-7a5043d4b362"
      },
      "outputs": [
        {
          "output_type": "stream",
          "name": "stdout",
          "text": [
            "The canola yield of 40.0 bushels is classified as Moderate Yield.\n"
          ]
        }
      ],
      "source": [
        "## Your code here down\n",
        "def assess_canola_yield(yield_bushels):\n",
        "    if yield_bushels > 50:\n",
        "        return \"High Yield\"\n",
        "    elif 30 <= yield_bushels <= 50:\n",
        "        return \"Moderate Yield\"\n",
        "    else:\n",
        "        return \"Low Yield\"\n",
        "\n",
        "canola_yield = 40.0\n",
        "yield_category = assess_canola_yield(canola_yield)\n",
        "print(f\"The canola yield of {canola_yield} bushels is classified as {yield_category}.\")\n",
        "\n",
        "## Your code here up"
      ]
    },
    {
      "cell_type": "markdown",
      "metadata": {
        "id": "13QI6tUiCfPP"
      },
      "source": [
        "## Exercise 5: Crop Average"
      ]
    },
    {
      "cell_type": "markdown",
      "metadata": {
        "id": "LfcxrTbMCfPP"
      },
      "source": [
        "Create a function that takes a list of crop yields (spring wheat) and returns the average yield. Keys: list, average() or arithmetic average."
      ]
    },
    {
      "cell_type": "code",
      "execution_count": null,
      "metadata": {
        "colab": {
          "base_uri": "https://localhost:8080/"
        },
        "id": "PIHoxrieCfPQ",
        "outputId": "60c2e1a2-5a3e-4905-ada8-297028017cc7"
      },
      "outputs": [
        {
          "output_type": "stream",
          "name": "stdout",
          "text": [
            "The average yield of spring wheat is: 48.1 bushels per acre.\n"
          ]
        }
      ],
      "source": [
        "## Your code here down\n",
        "def calculate_average_yield(yield_list):\n",
        "    if not yield_list:\n",
        "        return 0  # Return 0 if the list is empty to avoid division by zero.\n",
        "\n",
        "    total_yield = sum(yield_list)\n",
        "    average_yield = total_yield / len(yield_list)\n",
        "    return average_yield\n",
        "\n",
        "spring_wheat_yields = [45.0, 50.0, 42.5, 48.0, 55.0]\n",
        "average_yield = calculate_average_yield(spring_wheat_yields)\n",
        "print(f\"The average yield of spring wheat is: {average_yield} bushels per acre.\")\n",
        "\n",
        "## Your code here up"
      ]
    },
    {
      "cell_type": "markdown",
      "metadata": {
        "id": "ok0-c7YRCfPQ"
      },
      "source": [
        "## Exercise 6: Crop Recommendation"
      ]
    },
    {
      "cell_type": "markdown",
      "metadata": {
        "id": "1Wl1PQG1CfPQ"
      },
      "source": [
        "Create a function that takes the type of soil (brown, dark brown, black) as a parameter and returns a recommended crop (lentil, canola, oats) for that soil type. Keys: dict, def"
      ]
    },
    {
      "cell_type": "code",
      "execution_count": null,
      "metadata": {
        "colab": {
          "base_uri": "https://localhost:8080/"
        },
        "id": "zOuM9b8UCfPQ",
        "outputId": "176da18f-1806-4a9d-e5f0-6f1b3b6fb5b8"
      },
      "outputs": [
        {
          "output_type": "stream",
          "name": "stdout",
          "text": [
            "For dark brown soil, the recommended crop is: canola\n"
          ]
        }
      ],
      "source": [
        "## Your code here down\n",
        "def recommend_crop_for_soil(soil_type):\n",
        "    soil_crop_mapping = {\n",
        "        \"brown\": \"lentil\",\n",
        "        \"dark brown\": \"canola\",\n",
        "        \"black\": \"oats\"\n",
        "    }\n",
        "\n",
        "    # Use get() method to handle cases where the soil type is not in the dictionary\n",
        "    recommended_crop = soil_crop_mapping.get(soil_type.lower(), \"Unknown Soil Type\")\n",
        "    return recommended_crop\n",
        "\n",
        "soil_type = \"dark brown\"\n",
        "recommended_crop = recommend_crop_for_soil(soil_type)\n",
        "print(f\"For {soil_type} soil, the recommended crop is: {recommended_crop}\")\n",
        "\n",
        "## Your code here up"
      ]
    },
    {
      "cell_type": "markdown",
      "metadata": {
        "id": "zEsG7W8xCfPQ"
      },
      "source": [
        "## Exercise 7: Crop Rotation"
      ]
    },
    {
      "cell_type": "markdown",
      "metadata": {
        "id": "fYoTXjEsCfPQ"
      },
      "source": [
        "Create a function that takes a list of crop names (lentil, barly, canola, spring wheat, durum wheat, oats) and rotates the crops by moving the last crop to the beginning of the list. Keys: list and list index, def."
      ]
    },
    {
      "cell_type": "code",
      "execution_count": null,
      "metadata": {
        "colab": {
          "base_uri": "https://localhost:8080/"
        },
        "id": "y-F7dzbxCfPR",
        "outputId": "643f310b-6e99-4505-c1bf-8ecf30bce61f"
      },
      "outputs": [
        {
          "output_type": "stream",
          "name": "stdout",
          "text": [
            "Original Crop List: ['oats', 'lentil', 'barley', 'canola', 'spring wheat', 'durum wheat']\n",
            "Rotated Crop List: ['oats', 'lentil', 'barley', 'canola', 'spring wheat', 'durum wheat']\n"
          ]
        }
      ],
      "source": [
        "## Your code here down\n",
        "def rotate_crops(crop_list):\n",
        "    if not crop_list:\n",
        "        return crop_list  # Return the original list if it's empty\n",
        "\n",
        "    last_crop = crop_list.pop()  # Remove the last crop from the list\n",
        "    crop_list.insert(0, last_crop)  # Insert the last crop at the beginning\n",
        "    return crop_list\n",
        "\n",
        "crop_names = [\"lentil\", \"barley\", \"canola\", \"spring wheat\", \"durum wheat\", \"oats\"]\n",
        "rotated_crops = rotate_crops(crop_names)\n",
        "print(f\"Original Crop List: {crop_names}\")\n",
        "print(f\"Rotated Crop List: {rotated_crops}\")\n",
        "\n",
        "## Your code here up"
      ]
    },
    {
      "cell_type": "markdown",
      "metadata": {
        "id": "MMbYoWjCCfPR"
      },
      "source": [
        "# Exercise 8: Rainfall Analysis"
      ]
    },
    {
      "cell_type": "markdown",
      "metadata": {
        "id": "zIi5tH5ICfPR"
      },
      "source": [
        "Create a function that takes a list of rainfall measurements (daily mm in a week) and returns the maximum and minimum rainfall values. Keys: min(), max(), lists, def"
      ]
    },
    {
      "cell_type": "code",
      "execution_count": null,
      "metadata": {
        "colab": {
          "base_uri": "https://localhost:8080/"
        },
        "id": "hxPlW0CwCfPR",
        "outputId": "a9f691b8-d65f-42c9-b246-db8cde366e0f"
      },
      "outputs": [
        {
          "output_type": "stream",
          "name": "stdout",
          "text": [
            "Maximum Rainfall: 15.3 mm\n",
            "Minimum Rainfall: 5.2 mm\n"
          ]
        }
      ],
      "source": [
        "## Your code here down\n",
        "def find_max_min_rainfall(rainfall_measurements):\n",
        "    if not rainfall_measurements:\n",
        "        return None, None  # Return None for both max and min if the list is empty\n",
        "\n",
        "    max_rainfall = max(rainfall_measurements)\n",
        "    min_rainfall = min(rainfall_measurements)\n",
        "    return max_rainfall, min_rainfall\n",
        "\n",
        "rainfall_data = [10.5, 5.2, 8.0, 15.3, 7.1, 12.9, 6.7]\n",
        "max_rain, min_rain = find_max_min_rainfall(rainfall_data)\n",
        "print(f\"Maximum Rainfall: {max_rain} mm\")\n",
        "print(f\"Minimum Rainfall: {min_rain} mm\")\n",
        "\n",
        "## Your code here up"
      ]
    },
    {
      "cell_type": "markdown",
      "metadata": {
        "id": "ECM9yRqxCfPR"
      },
      "source": [
        "## Exercise 9: Pest Control"
      ]
    },
    {
      "cell_type": "markdown",
      "metadata": {
        "id": "tCQ3_-LVCfPR"
      },
      "source": [
        "Create a function that takes the count of pests detected in a field and returns a recommendation for pest control based on the count. Please search for pests and pest control measures. Keys: if-else statement, def"
      ]
    },
    {
      "cell_type": "code",
      "execution_count": null,
      "metadata": {
        "colab": {
          "base_uri": "https://localhost:8080/"
        },
        "id": "iB7zlgCECfPR",
        "outputId": "6b294537-89a3-4870-ce0f-a04755c244eb"
      },
      "outputs": [
        {
          "output_type": "stream",
          "name": "stdout",
          "text": [
            "For a pest count of 8, the recommendation is: Moderate pest count. Consider using insecticides judiciously.\n"
          ]
        }
      ],
      "source": [
        "## Your code here down\n",
        "def pest_control_recommendation(pest_count):\n",
        "    if pest_count == 0:\n",
        "        return \"No pests detected. Continue monitoring the field.\"\n",
        "\n",
        "    elif 1 <= pest_count <= 5:\n",
        "        return \"Low pest count. Consider using biological control methods.\"\n",
        "\n",
        "    elif 6 <= pest_count <= 10:\n",
        "        return \"Moderate pest count. Consider using insecticides judiciously.\"\n",
        "\n",
        "    else:\n",
        "        return \"High pest count. Implement immediate and targeted pest control measures.\"\n",
        "\n",
        "pest_count_in_field = 8\n",
        "recommendation = pest_control_recommendation(pest_count_in_field)\n",
        "print(f\"For a pest count of {pest_count_in_field}, the recommendation is: {recommendation}\")\n",
        "\n",
        "## Your code here up"
      ]
    },
    {
      "cell_type": "markdown",
      "metadata": {
        "id": "Em4Vk4ZFCfPS"
      },
      "source": [
        "## Exercise 10: Weed Control"
      ]
    },
    {
      "cell_type": "markdown",
      "metadata": {
        "id": "Z8O7y4WPCfPS"
      },
      "source": [
        "Create a function that takes a list of weed names (search online) and suggests appropriate herbicides for weed control. Keys: For Loops and dictionary."
      ]
    },
    {
      "cell_type": "code",
      "execution_count": null,
      "metadata": {
        "colab": {
          "base_uri": "https://localhost:8080/"
        },
        "id": "CAdJSWLJCfPS",
        "outputId": "427f2353-a12f-40b7-ba7c-ae749af35a33"
      },
      "outputs": [
        {
          "output_type": "stream",
          "name": "stdout",
          "text": [
            "For dandelion, recommended herbicides are: Glyphosate, 2,4-D\n",
            "For bindweed, recommended herbicides are: Dicamba, Glyphosate\n",
            "For thistle, recommended herbicides are: No specific recommendation\n",
            "For crabgrass, recommended herbicides are: Quinclorac, Dithiopyr\n"
          ]
        }
      ],
      "source": [
        "## Your code here down\n",
        "def suggest_herbicides_for_weeds(weed_names):\n",
        "    # Dictionary mapping weed names to recommended herbicides\n",
        "    herbicides_for_weeds = {\n",
        "        \"dandelion\": [\"Glyphosate\", \"2,4-D\"],\n",
        "        \"bindweed\": [\"Dicamba\", \"Glyphosate\"],\n",
        "        \"crabgrass\": [\"Quinclorac\", \"Dithiopyr\"],\n",
        "        # Add more weed-herbicide mappings as needed\n",
        "    }\n",
        "\n",
        "    recommendations = {}\n",
        "\n",
        "    # Loop through the provided weed names\n",
        "    for weed in weed_names:\n",
        "        weed_lower = weed.lower()  # Convert to lowercase for case-insensitive matching\n",
        "        if weed_lower in herbicides_for_weeds:\n",
        "            recommendations[weed] = herbicides_for_weeds[weed_lower]\n",
        "        else:\n",
        "            recommendations[weed] = [\"No specific recommendation\"]\n",
        "\n",
        "    return recommendations\n",
        "\n",
        "weed_names_list = [\"dandelion\", \"bindweed\", \"thistle\", \"crabgrass\"]\n",
        "herbicide_recommendations = suggest_herbicides_for_weeds(weed_names_list)\n",
        "\n",
        "# Print recommendations for each weed\n",
        "for weed, herbicides in herbicide_recommendations.items():\n",
        "    print(f\"For {weed}, recommended herbicides are: {', '.join(herbicides)}\")\n",
        "\n",
        "## Your code here up"
      ]
    }
  ],
  "metadata": {
    "kernelspec": {
      "display_name": "Python 3",
      "language": "python",
      "name": "python3"
    },
    "language_info": {
      "codemirror_mode": {
        "name": "ipython",
        "version": 3
      },
      "file_extension": ".py",
      "mimetype": "text/x-python",
      "name": "python",
      "nbconvert_exporter": "python",
      "pygments_lexer": "ipython3",
      "version": "3.9.13"
    },
    "orig_nbformat": 4,
    "colab": {
      "provenance": []
    }
  },
  "nbformat": 4,
  "nbformat_minor": 0
}