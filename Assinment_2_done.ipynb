{
  "cells": [
    {
      "cell_type": "markdown",
      "metadata": {
        "id": "ynm8tgWbGunO"
      },
      "source": [
        "# Assignment 2"
      ]
    },
    {
      "cell_type": "markdown",
      "metadata": {
        "id": "MxxvMZrOGunT"
      },
      "source": [
        "**Please follow the instructions. Do not add new cell! Write your code in designated areas.**"
      ]
    },
    {
      "cell_type": "code",
      "execution_count": 1,
      "metadata": {
        "colab": {
          "base_uri": "https://localhost:8080/"
        },
        "id": "qS-hJThKGunV",
        "outputId": "e88970be-0178-415a-d5e6-a8d040edc53f"
      },
      "outputs": [
        {
          "output_type": "stream",
          "name": "stdout",
          "text": [
            "Assignment 1 & 2: Solutions by Oluseye\n",
            "Local Time: 2024-02-09 09:03:05\n",
            "Computer ID: 076485ed3f19\n"
          ]
        }
      ],
      "source": [
        "import datetime\n",
        "import socket\n",
        "\n",
        "# Get local time\n",
        "local_time = datetime.datetime.now().strftime(\"%Y-%m-%d %H:%M:%S\")\n",
        "\n",
        "# Get computer ID or hostname\n",
        "computer_id = socket.gethostname()\n",
        "\n",
        "# Print output with local time and computer ID\n",
        "print('Assignment 1 & 2: Solutions by Oluseye') # Please change your name here\n",
        "print('Local Time:', local_time)\n",
        "print('Computer ID:', computer_id)"
      ]
    },
    {
      "cell_type": "markdown",
      "metadata": {
        "id": "EfLJFwdoGunY"
      },
      "source": [
        "## NumPy"
      ]
    },
    {
      "cell_type": "markdown",
      "metadata": {
        "id": "jCrM3P5bGunY"
      },
      "source": [
        "1. Create a 2D numpy array of size 4x5 with random integers between 1 and 10. Find the maximum value of the entire array.\n"
      ]
    },
    {
      "cell_type": "code",
      "execution_count": 5,
      "metadata": {
        "colab": {
          "base_uri": "https://localhost:8080/"
        },
        "id": "p5_mjGPOGunZ",
        "outputId": "69518317-4731-4a86-d727-b9713c4bb3c0"
      },
      "outputs": [
        {
          "output_type": "stream",
          "name": "stdout",
          "text": [
            "2D Array:\n",
            "[[ 8  2 10  5  9]\n",
            " [10  6 10 10  1]\n",
            " [ 7  3  3  3  2]\n",
            " [ 5  1  2  8  3]]\n",
            "\n",
            "Maximum Value in the Array: 10\n",
            "Mean of the Array: 5.4\n",
            "Standard Deviation of the Array: 3.2465366161495854\n"
          ]
        }
      ],
      "source": [
        "## Your code here down\n",
        "import numpy as np\n",
        "\n",
        "# Create a 2D numpy array of size 4x5 with random integers between 1 and 10\n",
        "array_2d = np.random.randint(1, 11, size=(4, 5))\n",
        "\n",
        "# Print the array\n",
        "print(\"2D Array:\")\n",
        "print(array_2d)\n",
        "\n",
        "# Find the maximum value of the entire array\n",
        "max_value = np.max(array_2d)\n",
        "\n",
        "# Print the maximum value\n",
        "print(f\"\\nMaximum Value in the Array: {max_value}\")\n",
        "\n",
        "# print(mean)\n",
        "mean_value = np.mean(array_2d)\n",
        "print(f\"Mean of the Array: {mean_value}\")\n",
        "\n",
        "# print (std) and so on\n",
        "std_deviation = np.std(array_2d)\n",
        "print(f\"Standard Deviation of the Array: {std_deviation}\")\n",
        "\n",
        "## Your code here up"
      ]
    },
    {
      "cell_type": "markdown",
      "metadata": {
        "id": "qkLHrE2zGunZ"
      },
      "source": [
        "2. Create a 1D numpy array of size 20 with random floats between 0 and 1. Reshape the array into a 4x5 matrix. Compute the mean of each row."
      ]
    },
    {
      "cell_type": "code",
      "execution_count": 6,
      "metadata": {
        "colab": {
          "base_uri": "https://localhost:8080/"
        },
        "id": "HlhMUYxCGuna",
        "outputId": "91f25b7c-6f71-438c-8982-f40a2a05c200"
      },
      "outputs": [
        {
          "output_type": "stream",
          "name": "stdout",
          "text": [
            "1D Array:\n",
            "[0.69891495 0.29423008 0.38318883 0.3653946  0.50926944 0.63191476\n",
            " 0.00595425 0.66441453 0.46448161 0.14741343 0.67192527 0.44870442\n",
            " 0.40860513 0.9735247  0.90977522 0.42079342 0.87709084 0.60954056\n",
            " 0.46754782 0.5712375 ]\n",
            "\n",
            "Reshaped 2D Array:\n",
            "[[0.69891495 0.29423008 0.38318883 0.3653946  0.50926944]\n",
            " [0.63191476 0.00595425 0.66441453 0.46448161 0.14741343]\n",
            " [0.67192527 0.44870442 0.40860513 0.9735247  0.90977522]\n",
            " [0.42079342 0.87709084 0.60954056 0.46754782 0.5712375 ]]\n",
            "\n",
            "Mean of Each Row:\n",
            "[0.45019958 0.38283571 0.68250695 0.58924203]\n"
          ]
        }
      ],
      "source": [
        "## Your code here down\n",
        "import numpy as np\n",
        "\n",
        "# Create a 1D numpy array of size 20 with random floats between 0 and 1\n",
        "array_1d = np.random.rand(20)\n",
        "\n",
        "# Reshape the array into a 4x5 matrix\n",
        "array_2d = array_1d.reshape(4, 5)\n",
        "\n",
        "# Print the original array and the reshaped matrix\n",
        "print(\"1D Array:\")\n",
        "print(array_1d)\n",
        "print(\"\\nReshaped 2D Array:\")\n",
        "print(array_2d)\n",
        "\n",
        "# Compute the mean of each row\n",
        "row_means = np.mean(array_2d, axis=1)\n",
        "\n",
        "# Print the mean of each row\n",
        "print(\"\\nMean of Each Row:\")\n",
        "print(row_means)\n",
        "\n",
        "## Your code here up"
      ]
    },
    {
      "cell_type": "markdown",
      "metadata": {
        "id": "hKXKDMkTGunb"
      },
      "source": [
        "3. Create a 2D numpy array of size 5x5 with random integers between 1 and 100. Compute standard deviation of each column."
      ]
    },
    {
      "cell_type": "code",
      "execution_count": 7,
      "metadata": {
        "colab": {
          "base_uri": "https://localhost:8080/"
        },
        "id": "V4DpyVpEGunb",
        "outputId": "ecd6b03e-b5b6-4eb3-a084-c402a92759ee"
      },
      "outputs": [
        {
          "output_type": "stream",
          "name": "stdout",
          "text": [
            "2D Array:\n",
            "[[28 97 18 54 67]\n",
            " [52 95 42 21 14]\n",
            " [60 76 26 53 93]\n",
            " [21 12  1 25 20]\n",
            " [84 65 28 35 47]]\n",
            "\n",
            "Standard Deviation of Each Column:\n",
            "[22.71563338 30.89983819 13.44618905 13.76372043 29.41700189]\n"
          ]
        }
      ],
      "source": [
        "## Your code here down\n",
        "import numpy as np\n",
        "\n",
        "# Create a 2D numpy array of size 5x5 with random integers between 1 and 100\n",
        "array_2d = np.random.randint(1, 101, size=(5, 5))\n",
        "\n",
        "# Print the array\n",
        "print(\"2D Array:\")\n",
        "print(array_2d)\n",
        "\n",
        "# Compute the standard deviation of each column\n",
        "column_std_devs = np.std(array_2d, axis=0)\n",
        "\n",
        "# Print the standard deviation of each column\n",
        "print(\"\\nStandard Deviation of Each Column:\")\n",
        "print(column_std_devs)\n",
        "\n",
        "## Your code here up"
      ]
    },
    {
      "cell_type": "markdown",
      "metadata": {
        "id": "p0FRl1cAGunc"
      },
      "source": [
        "4. Create a 1D numpy array of size 15 with random floats between -10 and 10. Replace all negative values with their absolute values."
      ]
    },
    {
      "cell_type": "code",
      "execution_count": 8,
      "metadata": {
        "colab": {
          "base_uri": "https://localhost:8080/"
        },
        "id": "8WcKPiVjGunc",
        "outputId": "c1878270-9658-414e-b9a6-bf60458030fb"
      },
      "outputs": [
        {
          "output_type": "stream",
          "name": "stdout",
          "text": [
            "Original 1D Array:\n",
            "[ 9.32000243  8.79240582  9.81408806 -0.52552564 -0.8917601  -2.66321723\n",
            "  4.159741    7.65824318  1.01616655  0.52118928  6.65954138 -3.41166512\n",
            "  1.73249621  1.20227345  4.03609213]\n",
            "\n",
            "Array after Replacing Negative Values with Absolute Values:\n",
            "[9.32000243 8.79240582 9.81408806 0.52552564 0.8917601  2.66321723\n",
            " 4.159741   7.65824318 1.01616655 0.52118928 6.65954138 3.41166512\n",
            " 1.73249621 1.20227345 4.03609213]\n"
          ]
        }
      ],
      "source": [
        "## Your code here down\n",
        "import numpy as np\n",
        "\n",
        "# Create a 1D numpy array of size 15 with random floats between -10 and 10\n",
        "array_1d = np.random.uniform(-10, 10, size=15)\n",
        "\n",
        "# Print the original array\n",
        "print(\"Original 1D Array:\")\n",
        "print(array_1d)\n",
        "\n",
        "# Replace all negative values with their absolute values\n",
        "array_1d_abs = np.abs(array_1d)\n",
        "\n",
        "# Print the array after replacement\n",
        "print(\"\\nArray after Replacing Negative Values with Absolute Values:\")\n",
        "print(array_1d_abs)\n",
        "\n",
        "## Your code here up"
      ]
    },
    {
      "cell_type": "markdown",
      "metadata": {
        "id": "teyR6LhfGunc"
      },
      "source": [
        "5. Create a 2D numpy array of size 3x4 with random integers between 1 and 100. Calculate the sum of all elements in the array."
      ]
    },
    {
      "cell_type": "code",
      "execution_count": 9,
      "metadata": {
        "colab": {
          "base_uri": "https://localhost:8080/"
        },
        "id": "7H_oxVRuGund",
        "outputId": "4a5f8d80-5b45-491c-9c45-0b8762bd0bd3"
      },
      "outputs": [
        {
          "output_type": "stream",
          "name": "stdout",
          "text": [
            "2D Array:\n",
            "[[13 41 96 69]\n",
            " [89 27 53 57]\n",
            " [36 18 36 46]]\n",
            "\n",
            "Sum of All Elements in the Array: 581\n"
          ]
        }
      ],
      "source": [
        "## Your code here down\n",
        "import numpy as np\n",
        "\n",
        "# Create a 2D numpy array of size 3x4 with random integers between 1 and 100\n",
        "array_2d = np.random.randint(1, 101, size=(3, 4))\n",
        "\n",
        "# Print the array\n",
        "print(\"2D Array:\")\n",
        "print(array_2d)\n",
        "\n",
        "# Calculate the sum of all elements in the array\n",
        "total_sum = np.sum(array_2d)\n",
        "\n",
        "# Print the sum\n",
        "print(\"\\nSum of All Elements in the Array:\", total_sum)\n",
        "\n",
        "## Your code here up"
      ]
    },
    {
      "cell_type": "markdown",
      "metadata": {
        "id": "QxBDVWHXGund"
      },
      "source": [
        "7. Create a 2D numpy array of size 4x6 with random floats between 0 and 1. Normalize each column by subtracting the column mean and dividing by the column standard deviation."
      ]
    },
    {
      "cell_type": "code",
      "execution_count": 10,
      "metadata": {
        "colab": {
          "base_uri": "https://localhost:8080/"
        },
        "id": "B5uX_6HCGune",
        "outputId": "9082b3ed-bc24-4d9a-ea48-8800ed6beb6c"
      },
      "outputs": [
        {
          "output_type": "stream",
          "name": "stdout",
          "text": [
            "Original 2D Array:\n",
            "[[0.34810706 0.01845334 0.4763677  0.39418592 0.67171159 0.94788972]\n",
            " [0.99217787 0.99571812 0.03315081 0.64704546 0.20138057 0.53491968]\n",
            " [0.49119246 0.05252867 0.19219377 0.1398353  0.13994542 0.44899332]\n",
            " [0.99473575 0.62086763 0.50959415 0.4609182  0.34249344 0.85465587]]\n",
            "\n",
            "Normalized 2D Array:\n",
            "[[-1.23037535 -0.98718783  0.8736391  -0.08977802  1.61792982  1.1993464 ]\n",
            " [ 0.98041332  1.40411509 -1.3575996   1.30205578 -0.66841831 -0.77177682]\n",
            " [-0.73923126 -0.90380774 -0.55694689 -1.48981924 -0.96706359 -1.18190691]\n",
            " [ 0.98919329  0.48688048  1.04090739  0.27754148  0.01755207  0.75433734]]\n"
          ]
        }
      ],
      "source": [
        "## Your code here down\n",
        "import numpy as np\n",
        "\n",
        "# Create a 2D numpy array of size 4x6 with random floats between 0 and 1\n",
        "array_2d = np.random.rand(4, 6)\n",
        "\n",
        "# Print the original array\n",
        "print(\"Original 2D Array:\")\n",
        "print(array_2d)\n",
        "\n",
        "# Normalize each column\n",
        "normalized_array = (array_2d - np.mean(array_2d, axis=0)) / np.std(array_2d, axis=0)\n",
        "\n",
        "# Print the normalized array\n",
        "print(\"\\nNormalized 2D Array:\")\n",
        "print(normalized_array)\n",
        "\n",
        "## Your code here up"
      ]
    },
    {
      "cell_type": "markdown",
      "metadata": {
        "id": "BS-9Fvq2Gunf"
      },
      "source": [
        "8. Create a 2D numpy array of size 10x10 with random integers between 1 and 100. Replace all values greater than 50 with 1 and all other values with 0."
      ]
    },
    {
      "cell_type": "code",
      "execution_count": 11,
      "metadata": {
        "colab": {
          "base_uri": "https://localhost:8080/"
        },
        "id": "D7F1pQ5GGunf",
        "outputId": "2e78bd75-bb48-4265-f363-4e1191615173"
      },
      "outputs": [
        {
          "output_type": "stream",
          "name": "stdout",
          "text": [
            "Original 2D Array:\n",
            "[[ 37  67  17   9  22  13  41  21  75  21]\n",
            " [ 82  77  26  40  29  49  93  18   7  44]\n",
            " [ 78  44  69 100  35  13  77  28  99  65]\n",
            " [ 51  95  60  14  49  93  64   9  45  50]\n",
            " [ 15  25  66  52  60  18 100  61  92  31]\n",
            " [ 54  35  33  69  98  93  75  99  44  85]\n",
            " [ 12  16  54   9  24  14  49  39   7  34]\n",
            " [ 80  51  27   2  56  13  57  46  15  84]\n",
            " [ 50  86  28  81  91  70   3  30  61  68]\n",
            " [ 89  62  81  66  32  14  94  78  40  71]]\n",
            "\n",
            "Array with Values Greater than 50 Replaced:\n",
            "[[0 1 0 0 0 0 0 0 1 0]\n",
            " [1 1 0 0 0 0 1 0 0 0]\n",
            " [1 0 1 1 0 0 1 0 1 1]\n",
            " [1 1 1 0 0 1 1 0 0 0]\n",
            " [0 0 1 1 1 0 1 1 1 0]\n",
            " [1 0 0 1 1 1 1 1 0 1]\n",
            " [0 0 1 0 0 0 0 0 0 0]\n",
            " [1 1 0 0 1 0 1 0 0 1]\n",
            " [0 1 0 1 1 1 0 0 1 1]\n",
            " [1 1 1 1 0 0 1 1 0 1]]\n"
          ]
        }
      ],
      "source": [
        "## Your code here down\n",
        "import numpy as np\n",
        "\n",
        "# Create a 2D numpy array of size 10x10 with random integers between 1 and 100\n",
        "array_2d = np.random.randint(1, 101, size=(10, 10))\n",
        "\n",
        "# Print the original array\n",
        "print(\"Original 2D Array:\")\n",
        "print(array_2d)\n",
        "\n",
        "# Replace values greater than 50 with 1 and others with 0\n",
        "binary_array = np.where(array_2d > 50, 1, 0)\n",
        "\n",
        "# Print the modified array\n",
        "print(\"\\nArray with Values Greater than 50 Replaced:\")\n",
        "print(binary_array)\n",
        "\n",
        "\n",
        "## Your code here up"
      ]
    },
    {
      "cell_type": "markdown",
      "metadata": {
        "id": "J4KYnKi7Gung"
      },
      "source": [
        "9. Create a 1D numpy array of size 50 with random floats between 0 and 1. Find the number of elements greater than 0.5."
      ]
    },
    {
      "cell_type": "code",
      "execution_count": 12,
      "metadata": {
        "colab": {
          "base_uri": "https://localhost:8080/"
        },
        "id": "cYlyQ7zFGung",
        "outputId": "338b26f0-d13f-4b39-b878-223050e5186f"
      },
      "outputs": [
        {
          "output_type": "stream",
          "name": "stdout",
          "text": [
            "Original 1D Array:\n",
            "[0.66537699 0.88774469 0.56340206 0.53296467 0.91820841 0.9009641\n",
            " 0.37244436 0.497866   0.47736847 0.40224231 0.55805735 0.9226633\n",
            " 0.13622568 0.22456729 0.2876815  0.04287207 0.8200534  0.57121171\n",
            " 0.67397114 0.88686254 0.25494165 0.84858902 0.1439778  0.14809636\n",
            " 0.68747141 0.96149822 0.07185405 0.65523165 0.99526681 0.96266218\n",
            " 0.54107721 0.13056064 0.96395331 0.93483394 0.18179369 0.50697137\n",
            " 0.45701688 0.88569862 0.26448604 0.52193362 0.10568274 0.17045325\n",
            " 0.17758207 0.01130014 0.32905707 0.07881293 0.55237493 0.25200398\n",
            " 0.59536268 0.07533007]\n",
            "\n",
            "Number of Elements Greater than 0.5: 26\n"
          ]
        }
      ],
      "source": [
        "## Your code here down\n",
        "import numpy as np\n",
        "\n",
        "# Create a 1D numpy array of size 50 with random floats between 0 and 1\n",
        "array_1d = np.random.rand(50)\n",
        "\n",
        "# Print the original array\n",
        "print(\"Original 1D Array:\")\n",
        "print(array_1d)\n",
        "\n",
        "# Find the number of elements greater than 0.5\n",
        "count_greater_than_05 = np.sum(array_1d > 0.5)\n",
        "\n",
        "# Print the result\n",
        "print(\"\\nNumber of Elements Greater than 0.5:\", count_greater_than_05)\n",
        "\n",
        "\n",
        "## Your code here up"
      ]
    },
    {
      "cell_type": "markdown",
      "metadata": {
        "id": "M8kaGmvPGunh"
      },
      "source": [
        "10. Create a 2D numpy array of size 5x5 with random floats between -1 and 1. Find the absolute difference between the maximum and minimum values in each row."
      ]
    },
    {
      "cell_type": "code",
      "execution_count": 13,
      "metadata": {
        "colab": {
          "base_uri": "https://localhost:8080/"
        },
        "id": "4cSSPRPQGunh",
        "outputId": "4269f8b0-93c9-4f6f-ab15-f3afbaaead89"
      },
      "outputs": [
        {
          "output_type": "stream",
          "name": "stdout",
          "text": [
            "Original 2D Array:\n",
            "[[ 0.12535489  0.65171849  0.04387527  0.45237633 -0.44688634]\n",
            " [ 0.33614934  0.02606628  0.84172189  0.30982006  0.34891857]\n",
            " [-0.0712281   0.43672805  0.99208541 -0.55600425  0.0035304 ]\n",
            " [ 0.19323161  0.85836045  0.27578953  0.05775451  0.33585377]\n",
            " [-0.70347768 -0.6718518  -0.4448998  -0.58860311  0.45341956]]\n",
            "\n",
            "Absolute Difference between Max and Min Values in Each Row:\n",
            "[1.09860483 0.81565561 1.54808967 0.80060594 1.15689724]\n"
          ]
        }
      ],
      "source": [
        "## Your code here down\n",
        "import numpy as np\n",
        "\n",
        "# Create a 2D numpy array of size 5x5 with random floats between -1 and 1\n",
        "array_2d = np.random.uniform(-1, 1, size=(5, 5))\n",
        "\n",
        "# Print the original array\n",
        "print(\"Original 2D Array:\")\n",
        "print(array_2d)\n",
        "\n",
        "# Find the absolute difference between the maximum and minimum values in each row\n",
        "abs_diff_per_row = np.abs(np.max(array_2d, axis=1) - np.min(array_2d, axis=1))\n",
        "\n",
        "# Print the result\n",
        "print(\"\\nAbsolute Difference between Max and Min Values in Each Row:\")\n",
        "print(abs_diff_per_row)\n",
        "\n",
        "\n",
        "## Your code here up"
      ]
    },
    {
      "cell_type": "markdown",
      "metadata": {
        "id": "1-c_Ic-hGunh"
      },
      "source": [
        "## Pandas"
      ]
    },
    {
      "cell_type": "markdown",
      "metadata": {
        "id": "cbfYIXZkGuni"
      },
      "source": [
        "Please refer the dataframe (farm data) we have created in the training. Please copy that cell and paste it below before starting this part."
      ]
    },
    {
      "cell_type": "code",
      "execution_count": 18,
      "metadata": {
        "id": "MafPMo6ZGuni"
      },
      "outputs": [],
      "source": [
        "import random\n",
        "import pandas as pd\n",
        "\n",
        "# Define the range for longitude and latitude\n",
        "lon_range = (-105, -100)\n",
        "lat_range = (50, 52)\n",
        "\n",
        "# Define the list of soil types\n",
        "soil_types = ['black', 'gray', 'dark brown', 'brown', None]\n",
        "\n",
        "# Create an empty list to store the farms\n",
        "farms = []\n",
        "\n",
        "# Generate 40 farms\n",
        "for i in range(1000):\n",
        "    farm = {\n",
        "        'farm_name': f'Farm {i+1}', # f is formated string\n",
        "        'farm_lon': round(random.uniform(lon_range[0], lon_range[1]), 2), # random lon with 2 decimal points\n",
        "        'farm_lat': round(random.uniform(lat_range[0], lat_range[1]), 2), # rantom lat with 2 decimal points\n",
        "        'temperature': round(random.uniform(18, 33), 1), #random temp with 1 decimal points\n",
        "        'precipitation': round(random.uniform(20, 90), 1), # random prec with 1 decimal points\n",
        "        'soil_type': random.choice(soil_types) # random soil types from above list\n",
        "    }\n",
        "    farms.append(farm)"
      ]
    },
    {
      "cell_type": "code",
      "execution_count": 17,
      "metadata": {
        "id": "zMXEyYgsGuni"
      },
      "outputs": [],
      "source": [
        "df = pd.DataFrame(farms) # your code here"
      ]
    },
    {
      "cell_type": "markdown",
      "metadata": {
        "id": "mSioX5U2Gunj"
      },
      "source": [
        "1. Select the rows where the temperature is above 20 degrees Celsius."
      ]
    },
    {
      "cell_type": "code",
      "execution_count": 19,
      "metadata": {
        "colab": {
          "base_uri": "https://localhost:8080/"
        },
        "id": "EVVT0kRTGunj",
        "outputId": "c8ed20bd-6785-46fd-90b7-894190eb5a77"
      },
      "outputs": [
        {
          "output_type": "stream",
          "name": "stdout",
          "text": [
            "     farm_name  farm_lon  farm_lat  temperature  precipitation   soil_type\n",
            "0       Farm 1   -102.49     50.35         22.0           42.9        gray\n",
            "3       Farm 4   -103.89     50.53         32.5           51.1  dark brown\n",
            "4       Farm 5   -104.94     50.32         25.5           56.9        gray\n",
            "5       Farm 6   -100.67     50.77         22.3           59.2        gray\n",
            "6       Farm 7   -101.24     51.20         27.6           58.9       brown\n",
            "..         ...       ...       ...          ...            ...         ...\n",
            "995   Farm 996   -102.23     51.43         24.2           82.3       black\n",
            "996   Farm 997   -101.90     51.07         28.8           44.7       brown\n",
            "997   Farm 998   -100.45     50.59         23.8           77.9        None\n",
            "998   Farm 999   -104.91     51.49         23.9           24.2       black\n",
            "999  Farm 1000   -101.00     50.08         26.6           62.5  dark brown\n",
            "\n",
            "[876 rows x 6 columns]\n"
          ]
        }
      ],
      "source": [
        "## Your code here down\n",
        "# Select rows where the temperature is above 20 degrees Celsius\n",
        "selected_rows = df[df['temperature'] > 20]\n",
        "\n",
        "# Display the selected rows\n",
        "print(selected_rows)\n",
        "\n",
        "## Your code here up"
      ]
    },
    {
      "cell_type": "markdown",
      "metadata": {
        "id": "hedMJQMFGunk"
      },
      "source": [
        "2. Sort the DataFrame by precipitation in descending order."
      ]
    },
    {
      "cell_type": "code",
      "execution_count": 20,
      "metadata": {
        "colab": {
          "base_uri": "https://localhost:8080/"
        },
        "id": "QZdNkaE8Gunk",
        "outputId": "48f81ad5-1313-4184-c1cb-cd1dba77cfdd"
      },
      "outputs": [
        {
          "output_type": "stream",
          "name": "stdout",
          "text": [
            "    farm_name  farm_lon  farm_lat  temperature  precipitation   soil_type\n",
            "180  Farm 181   -100.98     50.45         24.7           89.9        None\n",
            "769  Farm 770   -102.25     51.24         29.8           89.7       black\n",
            "462  Farm 463   -104.01     51.12         22.5           89.6       black\n",
            "735  Farm 736   -100.01     51.98         29.6           89.5        gray\n",
            "147  Farm 148   -102.18     50.05         32.3           89.4       black\n",
            "..        ...       ...       ...          ...            ...         ...\n",
            "580  Farm 581   -101.55     51.06         28.9           20.4        gray\n",
            "411  Farm 412   -103.58     51.07         28.2           20.4  dark brown\n",
            "152  Farm 153   -102.03     51.12         25.1           20.3        None\n",
            "210  Farm 211   -101.56     50.57         25.1           20.3  dark brown\n",
            "666  Farm 667   -102.35     50.21         22.3           20.2  dark brown\n",
            "\n",
            "[1000 rows x 6 columns]\n"
          ]
        }
      ],
      "source": [
        "## Your code here down\n",
        "# Sort the DataFrame by precipitation in descending order\n",
        "sorted_df = df.sort_values(by='precipitation', ascending=False)\n",
        "\n",
        "# Display the sorted DataFrame\n",
        "print(sorted_df)\n",
        "\n",
        "## Your code here up"
      ]
    },
    {
      "cell_type": "markdown",
      "metadata": {
        "id": "pcb9uOhJGunk"
      },
      "source": [
        "3. Filter the DataFrame to include only the farms located within latitude (51.15 & 51.00) range."
      ]
    },
    {
      "cell_type": "code",
      "execution_count": 21,
      "metadata": {
        "colab": {
          "base_uri": "https://localhost:8080/"
        },
        "id": "AL55PKOiGunk",
        "outputId": "0edfbb57-d6bf-4567-dafa-54ac2a378f3b"
      },
      "outputs": [
        {
          "output_type": "stream",
          "name": "stdout",
          "text": [
            "    farm_name  farm_lon  farm_lat  temperature  precipitation   soil_type\n",
            "2      Farm 3   -103.47     51.06         19.1           57.8        gray\n",
            "26    Farm 27   -102.48     51.11         22.9           45.8  dark brown\n",
            "30    Farm 31   -103.29     51.03         31.8           44.6        None\n",
            "36    Farm 37   -102.00     51.02         29.5           27.1        gray\n",
            "41    Farm 42   -103.24     51.08         23.1           37.4  dark brown\n",
            "..        ...       ...       ...          ...            ...         ...\n",
            "976  Farm 977   -101.65     51.10         29.2           43.5        gray\n",
            "980  Farm 981   -103.44     51.14         32.8           46.0       brown\n",
            "981  Farm 982   -102.58     51.10         19.4           22.0        None\n",
            "984  Farm 985   -103.05     51.08         18.5           30.3       black\n",
            "996  Farm 997   -101.90     51.07         28.8           44.7       brown\n",
            "\n",
            "[81 rows x 6 columns]\n"
          ]
        }
      ],
      "source": [
        "## Your code here down\n",
        "# Filter the DataFrame based on latitude range\n",
        "filtered_df = df[(df['farm_lat'] >= 51.00) & (df['farm_lat'] <= 51.15)]\n",
        "\n",
        "# Display the filtered DataFrame\n",
        "print(filtered_df)\n",
        "\n",
        "## Your code here up"
      ]
    },
    {
      "cell_type": "markdown",
      "metadata": {
        "id": "BVsKBbrQGunl"
      },
      "source": [
        " 4. Calculate the standard deviation of precipitation for each soil type."
      ]
    },
    {
      "cell_type": "code",
      "execution_count": 22,
      "metadata": {
        "colab": {
          "base_uri": "https://localhost:8080/"
        },
        "id": "yGPq1_t_Gunl",
        "outputId": "d6c8a397-043f-4c07-aa0b-cba700cf911c"
      },
      "outputs": [
        {
          "output_type": "stream",
          "name": "stdout",
          "text": [
            "soil_type\n",
            "black         21.306765\n",
            "brown         19.535696\n",
            "dark brown    19.247820\n",
            "gray          20.971726\n",
            "Name: precipitation, dtype: float64\n"
          ]
        }
      ],
      "source": [
        "## Your code here down\n",
        "# Calculate the standard deviation of precipitation for each soil type\n",
        "std_dev_by_soil = df.groupby('soil_type')['precipitation'].std()\n",
        "\n",
        "# Display the result\n",
        "print(std_dev_by_soil)\n",
        "\n",
        "## Your code here up"
      ]
    },
    {
      "cell_type": "markdown",
      "metadata": {
        "id": "f7Zz_s9zGunm"
      },
      "source": [
        "5. Calculate the cumulative sum of precipitation for each soil type."
      ]
    },
    {
      "cell_type": "code",
      "execution_count": 23,
      "metadata": {
        "colab": {
          "base_uri": "https://localhost:8080/"
        },
        "id": "YKvNZ6IyGunn",
        "outputId": "037ecc33-98c5-4b92-e31e-0fb1c408c74c"
      },
      "outputs": [
        {
          "output_type": "stream",
          "name": "stdout",
          "text": [
            "     farm_name  farm_lon  farm_lat  temperature  precipitation   soil_type  \\\n",
            "0       Farm 1   -102.49     50.35         22.0           42.9        gray   \n",
            "1       Farm 2   -103.21     51.55         19.0           86.5       brown   \n",
            "2       Farm 3   -103.47     51.06         19.1           57.8        gray   \n",
            "3       Farm 4   -103.89     50.53         32.5           51.1  dark brown   \n",
            "4       Farm 5   -104.94     50.32         25.5           56.9        gray   \n",
            "..         ...       ...       ...          ...            ...         ...   \n",
            "995   Farm 996   -102.23     51.43         24.2           82.3       black   \n",
            "996   Farm 997   -101.90     51.07         28.8           44.7       brown   \n",
            "997   Farm 998   -100.45     50.59         23.8           77.9        None   \n",
            "998   Farm 999   -104.91     51.49         23.9           24.2       black   \n",
            "999  Farm 1000   -101.00     50.08         26.6           62.5  dark brown   \n",
            "\n",
            "     cumulative_precipitation  \n",
            "0                        42.9  \n",
            "1                        86.5  \n",
            "2                       100.7  \n",
            "3                        51.1  \n",
            "4                       157.6  \n",
            "..                        ...  \n",
            "995                   11078.6  \n",
            "996                   10707.9  \n",
            "997                       NaN  \n",
            "998                   11102.8  \n",
            "999                   10776.0  \n",
            "\n",
            "[1000 rows x 7 columns]\n"
          ]
        }
      ],
      "source": [
        "## Your code here down\n",
        "# Calculate the cumulative sum of precipitation for each soil type\n",
        "cumulative_sum_by_soil = df.groupby('soil_type')['precipitation'].cumsum()\n",
        "\n",
        "# Add a new column to the DataFrame with the cumulative sum\n",
        "df['cumulative_precipitation'] = cumulative_sum_by_soil\n",
        "\n",
        "# Display the DataFrame with the cumulative sum column\n",
        "print(df)\n",
        "\n",
        "## Your code here up"
      ]
    },
    {
      "cell_type": "markdown",
      "metadata": {
        "id": "cTVQTp22Gunn"
      },
      "source": [
        "6. Determine the top 3 farms with the highest average temperature."
      ]
    },
    {
      "cell_type": "code",
      "execution_count": 24,
      "metadata": {
        "colab": {
          "base_uri": "https://localhost:8080/"
        },
        "id": "YFluk4jkGunn",
        "outputId": "452e983b-84b2-4c10-af96-858034d53a4f"
      },
      "outputs": [
        {
          "output_type": "stream",
          "name": "stdout",
          "text": [
            "farm_name\n",
            "Farm 154    33.0\n",
            "Farm 721    33.0\n",
            "Farm 274    32.9\n",
            "Name: temperature, dtype: float64\n"
          ]
        }
      ],
      "source": [
        "## Your code here down\n",
        "# Calculate the average temperature for each farm\n",
        "average_temp_by_farm = df.groupby('farm_name')['temperature'].mean()\n",
        "\n",
        "# Determine the top 3 farms with the highest average temperature\n",
        "top_3_farms = average_temp_by_farm.nlargest(3)\n",
        "\n",
        "# Display the result\n",
        "print(top_3_farms)\n",
        "\n",
        "## Your code here up"
      ]
    },
    {
      "cell_type": "markdown",
      "metadata": {
        "id": "OtOMeyheGuno"
      },
      "source": [
        "7. Find famrs in each soil type that have the highest temperature."
      ]
    },
    {
      "cell_type": "code",
      "execution_count": 25,
      "metadata": {
        "colab": {
          "base_uri": "https://localhost:8080/"
        },
        "id": "ELGo5Ks0Gunr",
        "outputId": "9880f7ab-6ac4-47dc-961b-2aa9924441ff"
      },
      "outputs": [
        {
          "output_type": "stream",
          "name": "stdout",
          "text": [
            "    farm_name  farm_lon  farm_lat  temperature  precipitation   soil_type  \\\n",
            "153  Farm 154   -102.98     51.62         33.0           44.6       black   \n",
            "720  Farm 721   -100.32     50.14         33.0           49.9       brown   \n",
            "3      Farm 4   -103.89     50.53         32.5           51.1  dark brown   \n",
            "640  Farm 641   -102.41     50.26         32.8           32.3        gray   \n",
            "\n",
            "     cumulative_precipitation  \n",
            "153                    1647.9  \n",
            "720                    7880.0  \n",
            "3                        51.1  \n",
            "640                    7595.4  \n"
          ]
        }
      ],
      "source": [
        "## Your code here down\n",
        "# Find farms in each soil type that have the highest temperature\n",
        "max_temp_farms = df.loc[df.groupby('soil_type')['temperature'].idxmax()]\n",
        "\n",
        "# Display the result\n",
        "print(max_temp_farms)\n",
        "\n",
        "## Your code here up"
      ]
    },
    {
      "cell_type": "markdown",
      "metadata": {
        "id": "0S31pCWEGunr"
      },
      "source": [
        "8. Create new column 'percentage_tot_prec' and add the percentage contribution of each farm's precipitation (relative to total precipitation) to the column."
      ]
    },
    {
      "cell_type": "code",
      "execution_count": 26,
      "metadata": {
        "colab": {
          "base_uri": "https://localhost:8080/"
        },
        "id": "D8DPw-jgGuns",
        "outputId": "f59b84bc-14ee-46c5-f661-ead60f0c0a66"
      },
      "outputs": [
        {
          "output_type": "stream",
          "name": "stdout",
          "text": [
            "     farm_name  farm_lon  farm_lat  temperature  precipitation   soil_type  \\\n",
            "0       Farm 1   -102.49     50.35         22.0           42.9        gray   \n",
            "1       Farm 2   -103.21     51.55         19.0           86.5       brown   \n",
            "2       Farm 3   -103.47     51.06         19.1           57.8        gray   \n",
            "3       Farm 4   -103.89     50.53         32.5           51.1  dark brown   \n",
            "4       Farm 5   -104.94     50.32         25.5           56.9        gray   \n",
            "..         ...       ...       ...          ...            ...         ...   \n",
            "995   Farm 996   -102.23     51.43         24.2           82.3       black   \n",
            "996   Farm 997   -101.90     51.07         28.8           44.7       brown   \n",
            "997   Farm 998   -100.45     50.59         23.8           77.9        None   \n",
            "998   Farm 999   -104.91     51.49         23.9           24.2       black   \n",
            "999  Farm 1000   -101.00     50.08         26.6           62.5  dark brown   \n",
            "\n",
            "     cumulative_precipitation  percentage_tot_prec  \n",
            "0                        42.9             0.077120  \n",
            "1                        86.5             0.155498  \n",
            "2                       100.7             0.103905  \n",
            "3                        51.1             0.091861  \n",
            "4                       157.6             0.102287  \n",
            "..                        ...                  ...  \n",
            "995                   11078.6             0.147948  \n",
            "996                   10707.9             0.080356  \n",
            "997                       NaN             0.140038  \n",
            "998                   11102.8             0.043504  \n",
            "999                   10776.0             0.112354  \n",
            "\n",
            "[1000 rows x 8 columns]\n"
          ]
        }
      ],
      "source": [
        "## Your code here down\n",
        "# Calculate the total precipitation\n",
        "total_precipitation = df['precipitation'].sum()\n",
        "\n",
        "# Create the new column 'percentage_tot_prec'\n",
        "df['percentage_tot_prec'] = (df['precipitation'] / total_precipitation) * 100\n",
        "\n",
        "# Display the DataFrame with the new column\n",
        "print(df)\n",
        "\n",
        "## Your code here up"
      ]
    },
    {
      "cell_type": "markdown",
      "metadata": {
        "id": "fCIEfFGnGuns"
      },
      "source": [
        "9. Create a new column called \"precipitation_rank\" that ranks the farms based on their precipitation in ascending order, with ties being assigned the same rank."
      ]
    },
    {
      "cell_type": "code",
      "execution_count": 27,
      "metadata": {
        "colab": {
          "base_uri": "https://localhost:8080/"
        },
        "id": "fbVEj6JSGuns",
        "outputId": "aadf904a-1f09-49ab-c925-34ac718169b4"
      },
      "outputs": [
        {
          "output_type": "stream",
          "name": "stdout",
          "text": [
            "     farm_name  farm_lon  farm_lat  temperature  precipitation   soil_type  \\\n",
            "0       Farm 1   -102.49     50.35         22.0           42.9        gray   \n",
            "1       Farm 2   -103.21     51.55         19.0           86.5       brown   \n",
            "2       Farm 3   -103.47     51.06         19.1           57.8        gray   \n",
            "3       Farm 4   -103.89     50.53         32.5           51.1  dark brown   \n",
            "4       Farm 5   -104.94     50.32         25.5           56.9        gray   \n",
            "..         ...       ...       ...          ...            ...         ...   \n",
            "995   Farm 996   -102.23     51.43         24.2           82.3       black   \n",
            "996   Farm 997   -101.90     51.07         28.8           44.7       brown   \n",
            "997   Farm 998   -100.45     50.59         23.8           77.9        None   \n",
            "998   Farm 999   -104.91     51.49         23.9           24.2       black   \n",
            "999  Farm 1000   -101.00     50.08         26.6           62.5  dark brown   \n",
            "\n",
            "     cumulative_precipitation  percentage_tot_prec  precipitation_rank  \n",
            "0                        42.9             0.077120               313.0  \n",
            "1                        86.5             0.155498               944.0  \n",
            "2                       100.7             0.103905               537.0  \n",
            "3                        51.1             0.091861               435.0  \n",
            "4                       157.6             0.102287               523.0  \n",
            "..                        ...                  ...                 ...  \n",
            "995                   11078.6             0.147948               875.0  \n",
            "996                   10707.9             0.080356               339.0  \n",
            "997                       NaN             0.140038               813.0  \n",
            "998                   11102.8             0.043504                57.0  \n",
            "999                   10776.0             0.112354               599.0  \n",
            "\n",
            "[1000 rows x 9 columns]\n"
          ]
        }
      ],
      "source": [
        "## Your code here down\n",
        "# Create the new column 'precipitation_rank'\n",
        "df['precipitation_rank'] = df['precipitation'].rank(method='min', ascending=True)\n",
        "\n",
        "# Display the DataFrame with the new column\n",
        "print(df)\n",
        "\n",
        "## Your code here up"
      ]
    },
    {
      "cell_type": "markdown",
      "metadata": {
        "id": "_IKTqZUBGunt"
      },
      "source": [
        "10. Normalize the temperature column to a range between 0 and 1 for each farm."
      ]
    },
    {
      "cell_type": "code",
      "execution_count": 29,
      "metadata": {
        "colab": {
          "base_uri": "https://localhost:8080/"
        },
        "id": "vh_BdasTGunt",
        "outputId": "2edd5129-e135-464b-b1cb-141d721a1eed"
      },
      "outputs": [
        {
          "output_type": "stream",
          "name": "stdout",
          "text": [
            "     farm_name  farm_lon  farm_lat  temperature  precipitation   soil_type  \\\n",
            "0       Farm 1   -102.49     50.35         22.0           42.9        gray   \n",
            "1       Farm 2   -103.21     51.55         19.0           86.5       brown   \n",
            "2       Farm 3   -103.47     51.06         19.1           57.8        gray   \n",
            "3       Farm 4   -103.89     50.53         32.5           51.1  dark brown   \n",
            "4       Farm 5   -104.94     50.32         25.5           56.9        gray   \n",
            "..         ...       ...       ...          ...            ...         ...   \n",
            "995   Farm 996   -102.23     51.43         24.2           82.3       black   \n",
            "996   Farm 997   -101.90     51.07         28.8           44.7       brown   \n",
            "997   Farm 998   -100.45     50.59         23.8           77.9        None   \n",
            "998   Farm 999   -104.91     51.49         23.9           24.2       black   \n",
            "999  Farm 1000   -101.00     50.08         26.6           62.5  dark brown   \n",
            "\n",
            "     cumulative_precipitation  percentage_tot_prec  precipitation_rank  \\\n",
            "0                        42.9             0.077120               313.0   \n",
            "1                        86.5             0.155498               944.0   \n",
            "2                       100.7             0.103905               537.0   \n",
            "3                        51.1             0.091861               435.0   \n",
            "4                       157.6             0.102287               523.0   \n",
            "..                        ...                  ...                 ...   \n",
            "995                   11078.6             0.147948               875.0   \n",
            "996                   10707.9             0.080356               339.0   \n",
            "997                       NaN             0.140038               813.0   \n",
            "998                   11102.8             0.043504                57.0   \n",
            "999                   10776.0             0.112354               599.0   \n",
            "\n",
            "     normalized_temperature  \n",
            "0                       NaN  \n",
            "1                       NaN  \n",
            "2                       NaN  \n",
            "3                       NaN  \n",
            "4                       NaN  \n",
            "..                      ...  \n",
            "995                     NaN  \n",
            "996                     NaN  \n",
            "997                     NaN  \n",
            "998                     NaN  \n",
            "999                     NaN  \n",
            "\n",
            "[1000 rows x 10 columns]\n"
          ]
        }
      ],
      "source": [
        "## Your code here down\n",
        "# Normalize the 'temperature' column to a range between 0 and 1 for each farm\n",
        "df['normalized_temperature'] = (df['temperature'] - df.groupby('farm_name')['temperature'].transform('min')) / (df.groupby('farm_name')['temperature'].transform('max') - df.groupby('farm_name')['temperature'].transform('min'))\n",
        "\n",
        "# Display the DataFrame with the new normalized column\n",
        "print(df)\n",
        "\n",
        "## Your code here up"
      ]
    },
    {
      "cell_type": "markdown",
      "metadata": {
        "id": "hATetd-YGunu"
      },
      "source": [
        "## ETL"
      ]
    },
    {
      "cell_type": "markdown",
      "metadata": {
        "id": "dCKWQGYcGunu"
      },
      "source": [
        "11. Change column types accordingly."
      ]
    },
    {
      "cell_type": "code",
      "execution_count": 30,
      "metadata": {
        "colab": {
          "base_uri": "https://localhost:8080/"
        },
        "id": "2EqQKFyPGunv",
        "outputId": "5e5e5473-2d97-4dbb-c7e5-fe23c126280a"
      },
      "outputs": [
        {
          "output_type": "stream",
          "name": "stdout",
          "text": [
            "farm_name                     object\n",
            "farm_lon                     float64\n",
            "farm_lat                     float64\n",
            "temperature                  float64\n",
            "precipitation                float64\n",
            "soil_type                   category\n",
            "cumulative_precipitation     float64\n",
            "percentage_tot_prec          float64\n",
            "precipitation_rank           float64\n",
            "normalized_temperature       float64\n",
            "dtype: object\n"
          ]
        }
      ],
      "source": [
        "## Your code here down\n",
        "# Convert columns to appropriate data types\n",
        "df['farm_lon'] = df['farm_lon'].astype(float)\n",
        "df['farm_lat'] = df['farm_lat'].astype(float)\n",
        "df['temperature'] = df['temperature'].astype(float)\n",
        "df['precipitation'] = df['precipitation'].astype(float)\n",
        "df['soil_type'] = df['soil_type'].astype('category')\n",
        "\n",
        "# Display the DataFrame with updated column types\n",
        "print(df.dtypes)\n",
        "\n",
        "## Your code here up"
      ]
    },
    {
      "cell_type": "markdown",
      "metadata": {
        "id": "s_1H63fzGunv"
      },
      "source": [
        "## EDA"
      ]
    },
    {
      "cell_type": "markdown",
      "metadata": {
        "id": "s7qOXbz2Gunw"
      },
      "source": [
        "12. Find missing values and give information how would you handle them"
      ]
    },
    {
      "cell_type": "code",
      "execution_count": 32,
      "metadata": {
        "colab": {
          "base_uri": "https://localhost:8080/"
        },
        "id": "4mXVM3kNGunw",
        "outputId": "f6b17949-f839-49d1-925e-23d2830dc7c0"
      },
      "outputs": [
        {
          "output_type": "stream",
          "name": "stdout",
          "text": [
            "Missing Values:\n",
            "farm_name                      0\n",
            "farm_lon                       0\n",
            "farm_lat                       0\n",
            "temperature                    0\n",
            "precipitation                  0\n",
            "soil_type                    197\n",
            "cumulative_precipitation     197\n",
            "percentage_tot_prec            0\n",
            "precipitation_rank             0\n",
            "normalized_temperature      1000\n",
            "dtype: int64\n",
            "\n",
            "Percentage of Missing Values:\n",
            "farm_name                     0.0\n",
            "farm_lon                      0.0\n",
            "farm_lat                      0.0\n",
            "temperature                   0.0\n",
            "precipitation                 0.0\n",
            "soil_type                    19.7\n",
            "cumulative_precipitation     19.7\n",
            "percentage_tot_prec           0.0\n",
            "precipitation_rank            0.0\n",
            "normalized_temperature      100.0\n",
            "dtype: float64\n"
          ]
        }
      ],
      "source": [
        "## Your code here down\n",
        "# Find missing values in the DataFrame\n",
        "missing_values = df.isnull().sum()\n",
        "\n",
        "# Display information about missing values\n",
        "print(\"Missing Values:\")\n",
        "print(missing_values)\n",
        "\n",
        "# Display percentage of missing values\n",
        "percentage_missing = (missing_values / len(df)) * 100\n",
        "print(\"\\nPercentage of Missing Values:\")\n",
        "print(percentage_missing)\n",
        "\n",
        "\n",
        "#Once the missing values have been identified:\n",
        "\n",
        "#1. Remove Rows: If the number of missing values is small, consider removing the corresponding rows using dropna().\n",
        "# Remove rows with missing values\n",
        "df_cleaned = df.dropna()\n",
        "\n",
        "#2. Imputation: Replace missing values with a calculated value. For numerical columns, use the mean or median, and for categorical columns, use the mode.\n",
        "# Impute missing values with mean (for numerical columns)\n",
        "df['temperature'].fillna(df['temperature'].mean(), inplace=True)\n",
        "\n",
        "# Impute missing values with mode (for categorical columns)\n",
        "df['soil_type'].fillna(df['soil_type'].mode()[0], inplace=True)\n",
        "\n",
        "#3. Advanced Imputation: For more complex cases, use advanced imputation techniques, such as predictive modeling or k-nearest neighbors imputation.\n",
        "\n",
        "## Your code here up"
      ]
    },
    {
      "cell_type": "markdown",
      "metadata": {
        "id": "4ePjSdb_Gunx"
      },
      "source": [
        "13. Find outliers if there is any how would you handle them"
      ]
    },
    {
      "cell_type": "code",
      "execution_count": 33,
      "metadata": {
        "colab": {
          "base_uri": "https://localhost:8080/"
        },
        "id": "5a9Ggp9VGunx",
        "outputId": "c5fb4861-3d4e-4d87-ce40-6bee293db51d"
      },
      "outputs": [
        {
          "output_type": "stream",
          "name": "stdout",
          "text": [
            "Outliers in Temperature:\n",
            "Empty DataFrame\n",
            "Columns: [farm_name, farm_lon, farm_lat, temperature, precipitation, soil_type, cumulative_precipitation, percentage_tot_prec, precipitation_rank, normalized_temperature]\n",
            "Index: []\n",
            "\n",
            "Outliers in Precipitation:\n",
            "Empty DataFrame\n",
            "Columns: [farm_name, farm_lon, farm_lat, temperature, precipitation, soil_type, cumulative_precipitation, percentage_tot_prec, precipitation_rank, normalized_temperature]\n",
            "Index: []\n"
          ]
        }
      ],
      "source": [
        "## Your code here down\n",
        "from scipy import stats\n",
        "\n",
        "# Calculate the Z-scores for temperature and precipitation columns\n",
        "z_scores_temp = np.abs(stats.zscore(df['temperature']))\n",
        "z_scores_prec = np.abs(stats.zscore(df['precipitation']))\n",
        "\n",
        "# Define a threshold for Z-score (e.g., 3)\n",
        "z_score_threshold = 3\n",
        "\n",
        "# Identify outliers based on the Z-scores\n",
        "outliers_temp = df[z_scores_temp > z_score_threshold]\n",
        "outliers_prec = df[z_scores_prec > z_score_threshold]\n",
        "\n",
        "# Display information about outliers\n",
        "print(\"Outliers in Temperature:\")\n",
        "print(outliers_temp)\n",
        "\n",
        "print(\"\\nOutliers in Precipitation:\")\n",
        "print(outliers_prec)\n",
        "\n",
        "#Handling outliers can be approached in various ways:\n",
        "#1. Removing Outliers: remove the rows containing outliers.\n",
        "# Remove rows with outliers\n",
        "df_no_outliers = df[(z_scores_temp <= z_score_threshold) & (z_scores_prec <= z_score_threshold)]\n",
        "\n",
        "#2. Transformation: Apply transformations to the data to reduce the impact of outliers. Common transformations include log transformations for positively skewed data.\n",
        "# Log transformation\n",
        "df['transformed_precipitation'] = np.log1p(df['precipitation'])\n",
        "\n",
        "#3. Winsorizing: Replace extreme values with less extreme values.\n",
        "# Winsorizing (replace values above threshold with threshold value)\n",
        "df['temperature'] = np.where(z_scores_temp > z_score_threshold, df['temperature'].quantile(1 - z_score_threshold / len(df)), df['temperature'])\n",
        "\n",
        "\n",
        "## Your code here up"
      ]
    },
    {
      "cell_type": "markdown",
      "metadata": {
        "id": "g14Uy0-MGuny"
      },
      "source": [
        "14. Find descriptive statistics for relavant columns and plot them by using bars."
      ]
    },
    {
      "cell_type": "code",
      "execution_count": 34,
      "metadata": {
        "colab": {
          "base_uri": "https://localhost:8080/",
          "height": 807
        },
        "id": "gOJjDzTHGuny",
        "outputId": "fcf5fa16-40aa-4d70-9a68-3970dbb265ff"
      },
      "outputs": [
        {
          "output_type": "display_data",
          "data": {
            "text/plain": [
              "<Figure size 1000x800 with 2 Axes>"
            ],
            "image/png": "[encoded data removed]"
          },
          "metadata": {}
        }
      ],
      "source": [
        "## Your code here down\n",
        "import matplotlib.pyplot as plt\n",
        "\n",
        "# Descriptive statistics for 'temperature' and 'precipitation'\n",
        "temperature_stats = df['temperature'].describe()\n",
        "precipitation_stats = df['precipitation'].describe()\n",
        "\n",
        "# Plotting bar charts\n",
        "fig, axes = plt.subplots(2, 1, figsize=(10, 8))\n",
        "\n",
        "# Bar chart for 'temperature'\n",
        "axes[0].bar(temperature_stats.index, temperature_stats.values, color='skyblue')\n",
        "axes[0].set_title('Descriptive Statistics for Temperature')\n",
        "\n",
        "# Bar chart for 'precipitation'\n",
        "axes[1].bar(precipitation_stats.index, precipitation_stats.values, color='lightgreen')\n",
        "axes[1].set_title('Descriptive Statistics for Precipitation')\n",
        "\n",
        "plt.tight_layout()\n",
        "plt.show()\n",
        "\n",
        "\n",
        "## Your code here up"
      ]
    },
    {
      "cell_type": "markdown",
      "metadata": {
        "id": "Ziau89IjGunz"
      },
      "source": [
        "15. Plot the distribution of relevant columns."
      ]
    },
    {
      "cell_type": "code",
      "execution_count": 35,
      "metadata": {
        "colab": {
          "base_uri": "https://localhost:8080/",
          "height": 1000
        },
        "id": "OzgApFfdGun0",
        "outputId": "48dc226d-b77b-4b8e-b316-31a942c5c33e"
      },
      "outputs": [
        {
          "output_type": "display_data",
          "data": {
            "text/plain": [
              "<Figure size 1000x600 with 1 Axes>"
            ],
            "image/png": "[encoded data removed]"
          },
          "metadata": {}
        },
        {
          "output_type": "display_data",
          "data": {
            "text/plain": [
              "<Figure size 1000x600 with 1 Axes>"
            ],
            "image/png": "[encoded data removed]"
          },
          "metadata": {}
        }
      ],
      "source": [
        "## Your code here down\n",
        "import matplotlib.pyplot as plt\n",
        "import seaborn as sns\n",
        "\n",
        "# Set the style for the plots\n",
        "sns.set(style=\"whitegrid\")\n",
        "\n",
        "# Plot the distribution of 'temperature'\n",
        "plt.figure(figsize=(10, 6))\n",
        "sns.histplot(df['temperature'], bins=20, kde=True, color='skyblue')\n",
        "plt.title('Distribution of Temperature')\n",
        "plt.xlabel('Temperature')\n",
        "plt.ylabel('Frequency')\n",
        "plt.show()\n",
        "\n",
        "# Plot the distribution of 'precipitation'\n",
        "plt.figure(figsize=(10, 6))\n",
        "sns.histplot(df['precipitation'], bins=20, kde=True, color='lightgreen')\n",
        "plt.title('Distribution of Precipitation')\n",
        "plt.xlabel('Precipitation')\n",
        "plt.ylabel('Frequency')\n",
        "plt.show()\n",
        "\n",
        "\n",
        "## Your code here up"
      ]
    }
  ],
  "metadata": {
    "kernelspec": {
      "display_name": "Python 3",
      "language": "python",
      "name": "python3"
    },
    "language_info": {
      "codemirror_mode": {
        "name": "ipython",
        "version": 3
      },
      "file_extension": ".py",
      "mimetype": "text/x-python",
      "name": "python",
      "nbconvert_exporter": "python",
      "pygments_lexer": "ipython3",
      "version": "3.11.5"
    },
    "orig_nbformat": 4,
    "colab": {
      "provenance": []
    }
  },
  "nbformat": 4,
  "nbformat_minor": 0
}